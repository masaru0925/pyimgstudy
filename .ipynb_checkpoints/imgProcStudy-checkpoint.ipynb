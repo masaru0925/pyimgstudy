{
 "cells": [
  {
   "cell_type": "code",
   "execution_count": 1,
   "metadata": {
    "collapsed": false,
    "scrolled": false
   },
   "outputs": [],
   "source": [
    "from PIL import Image\n",
    "import urllib.request\n",
    "import io, cv2, matplotlib\n",
    "import numpy as np\n",
    "import matplotlib.pyplot as plt"
   ]
  },
  {
   "cell_type": "code",
   "execution_count": 2,
   "metadata": {
    "collapsed": true
   },
   "outputs": [],
   "source": [
    "URL = \"http://drive.google.com/uc?export=view&id=0Bz7nK55KqnBwMXBzUS1vcUZTTUU\"\n",
    "URL_android = \"http://drive.google.com/uc?export=view&id=0Bz7nK55KqnBwUkNTUHJuZkg2NGM\""
   ]
  },
  {
   "cell_type": "code",
   "execution_count": 3,
   "metadata": {
    "collapsed": true
   },
   "outputs": [],
   "source": [
    "def urlToImage(url):\n",
    "    #download the image, convert it to a NumPy array, and then read it into OpenCV format\n",
    "    res = urllib.request.urlopen(url)\n",
    "    image = np.asarray(bytearray(res.read()), dtype=np.uint8)\n",
    "    image = cv2.imdecode(image, cv2.IMREAD_COLOR)\n",
    "    return image"
   ]
  },
  {
   "cell_type": "code",
   "execution_count": 4,
   "metadata": {
    "collapsed": true
   },
   "outputs": [],
   "source": [
    "def craeteEnhancementTable(min_table, max_table):\n",
    "    diff_table = max_table - min_table\n",
    "    look_up_table = np.arange(256, dtype = 'uint8' )\n",
    "    \n",
    "    for i in range(0, min_table):\n",
    "        look_up_table[i] = 0\n",
    "        \n",
    "    for i in range(min_table, max_table):\n",
    "        look_up_table[i] = 255 * (i - min_table) / diff_table\n",
    "        \n",
    "    for i in range(max_table, 255):\n",
    "        look_up_table[i] = 255\n",
    " \n",
    "    return lookup_table"
   ]
  },
  {
   "cell_type": "code",
   "execution_count": 5,
   "metadata": {
    "collapsed": true
   },
   "outputs": [],
   "source": [
    "def createGammaTable(gamma):\n",
    "\n",
    "    # Create lookup table\n",
    "    lookup_table = np.ones((256, 1), dtype = 'uint8' ) * 0\n",
    "    for i in range(256): \n",
    "        lookup_table[i][0] = 255 * pow(float(i) / 255, 1.0 / gamma)\n",
    "    return lookup_table"
   ]
  },
  {
   "cell_type": "code",
   "execution_count": 6,
   "metadata": {
    "collapsed": true
   },
   "outputs": [],
   "source": [
    "def contourImage(img_gray):\n",
    "    ret,thresh = cv2.threshold(img_gray,127,255,0)\n",
    "    img_gray_contour, contours, hierarchy = cv2.findContours(thresh, cv2.RETR_TREE, cv2.CHAIN_APPROX_SIMPLE)\n",
    "    img_contour = cv2.drawContours(img_gray_contour, contours, -1, (0,255,0), 3)\n",
    "    return img_contour"
   ]
  },
  {
   "cell_type": "code",
   "execution_count": 7,
   "metadata": {
    "collapsed": true
   },
   "outputs": [],
   "source": [
    "def histImge(img_eqh):\n",
    "    # Prepair histgram image to display\n",
    "    img_histgram = np.zeros([100, 256]).astype(\"uint8\")\n",
    "    # Acquire rows, cols of histgram image\n",
    "    rows, cols = img_histgram.shape\n",
    " \n",
    "    ### Acquire Frequency distribution\n",
    "    \n",
    "    # Size of Frequency distribution by dimension\n",
    "    hdims = [256]\n",
    " \n",
    "    # Range of min-max of Frequency distribution by dimension\n",
    "    hranges = [0, 256]\n",
    "    \n",
    "    # Calcurate histgram of equalized image\n",
    "    histgram = cv2.calcHist([img_eqh], [0], None, hdims, hranges)\n",
    " \n",
    "    # Acquire min, max val and location of Frequency distribution\n",
    "    min_val, max_val, min_loc, max_loc = cv2.minMaxLoc(histgram)\n",
    " \n",
    "    for i in range(0, 255):\n",
    " \n",
    "        # Acquire value of calculated Frequency distribution\n",
    "        v = histgram[i]\n",
    " \n",
    "        # Write to image\n",
    "        cv2.line(img_histgram,\n",
    "                 (i, rows),\n",
    "                 (i, rows - rows * (v / max_val)),\n",
    "                 (255, 255, 255))\n",
    "    #end for\n",
    "    return img_histgram"
   ]
  },
  {
   "cell_type": "code",
   "execution_count": 8,
   "metadata": {
    "collapsed": false
   },
   "outputs": [],
   "source": [
    "def writeEqualizedColorImage(img_gray, img_name, color):\n",
    "\n",
    "    # Equalize histgram from Grayscale image\n",
    "    img_eqh = cv2.equalizeHist(img_gray) \n",
    "    img_color = cv2.applyColorMap(img_eqh, color)\n",
    "    cv2.imwrite(img_name,img_color)"
   ]
  },
  {
   "cell_type": "code",
   "execution_count": 9,
   "metadata": {
    "collapsed": false
   },
   "outputs": [],
   "source": [
    "img_src = urlToImage(URL)\n",
    "img_src_android = urlToImage(URL_android)"
   ]
  },
  {
   "cell_type": "code",
   "execution_count": 10,
   "metadata": {
    "collapsed": false,
    "scrolled": true
   },
   "outputs": [],
   "source": [
    "#lookup_table_enhance = craeteEnhancementTable(min_table=100, max_table=192)\n",
    "#img_gray_android = cv2.cvtColor(urlToImage(URL_android), cv2.COLOR_RGB2GRAY)\n",
    "#img_enhanced = cv2.LUT(urlToImage(URL), lookup_table)\n",
    "#cv2.imwrite(\"enhanced.jpg\", img_enhanced)\n",
    "\n",
    "#-##-- GAMMA\n",
    "#-#lookup_table_gamma = createGammaTable(2.0)\n",
    "#-#img_gamma = cv2.LUT(img_src, lookup_table_gamma) \n",
    "#-#img_gamma_gray = cv2.cvtColor(img_gamma, cv2.COLOR_RGB2GRAY)\n",
    "#-##writeEqualizedColorImage(img_gamma_gray, \"gamma_gray.jpg\", cv2.COLORMAP_JET)\n",
    "#-#ret,img_gamma_threshTRUNC_170 = cv2.threshold(255-img_gamma_gray,170,255,cv2.THRESH_TRUNC)\n",
    "#-#writeEqualizedColorImage(255-img_gamma_threshTRUNC_170, \"jet_gamma_threshTRUNC_170.jpg\", cv2.COLORMAP_JET)\n",
    "\n",
    "#-- SRC\n",
    "img_src_gray = cv2.cvtColor(img_src, cv2.COLOR_RGB2GRAY)\n",
    "#-#ret,img_src_threshTRUNC_nega = cv2.threshold(255-img_src_gray,200,255,cv2.THRESH_TRUNC)\n",
    "#-#ret,img_src_threshTRUNC = cv2.threshold(img_src_threshTRUNC_nega,230,255,cv2.THRESH_TRUNC)\n",
    "ret,img_src_threshTRUNC_200 = cv2.threshold(255-img_src_gray,200,255,cv2.THRESH_TRUNC)\n",
    "writeEqualizedColorImage(255-img_src_threshTRUNC_200, \"jet_src_threshTRUNC_200.jpg\", cv2.COLORMAP_JET)\n",
    "ret,img_src_threshTRUNC_225 = cv2.threshold(255-img_src_gray,225,255,cv2.THRESH_TRUNC)\n",
    "writeEqualizedColorImage(255-img_src_threshTRUNC_225, \"jet_src_threshTRUNC_225.jpg\", cv2.COLORMAP_JET)\n",
    "\n",
    "#-#img_src_gray_android = cv2.cvtColor(img_src_android, cv2.COLOR_RGB2GRAY)\n",
    "\n",
    "#-#img_contour = contourImage(img_src_gray)\n",
    "#-#writeEqualizedColorImage(img_contour, \"contour.jpg\", cv2.COLORMAP_JET)\n",
    "\n",
    "#-#writeEqualizedColorImage(img_src_gray, \"color.jpg\", cv2.COLORMAP_JET)\n",
    "#-#writeEqualizedColorImage(img_src_gray_android, \"color_android.jpg\", cv2.COLORMAP_JET)\n",
    "\n",
    "#writeEqualizedImage(img_gray_enhanced_android, \"color_image_android.jpg\", cv2.COLORMAP_JET)"
   ]
  },
  {
   "cell_type": "code",
   "execution_count": null,
   "metadata": {
    "collapsed": false
   },
   "outputs": [],
   "source": []
  },
  {
   "cell_type": "code",
   "execution_count": null,
   "metadata": {
    "collapsed": true
   },
   "outputs": [],
   "source": []
  }
 ],
 "metadata": {
  "anaconda-cloud": {},
  "kernelspec": {
   "display_name": "Python [default]",
   "language": "python",
   "name": "python3"
  },
  "language_info": {
   "codemirror_mode": {
    "name": "ipython",
    "version": 3
   },
   "file_extension": ".py",
   "mimetype": "text/x-python",
   "name": "python",
   "nbconvert_exporter": "python",
   "pygments_lexer": "ipython3",
   "version": "3.5.2"
  },
  "toc": {
   "colors": {
    "hover_highlight": "#DAA520",
    "running_highlight": "#FF0000",
    "selected_highlight": "#FFD700"
   },
   "moveMenuLeft": true,
   "nav_menu": {
    "height": "12px",
    "width": "252px"
   },
   "navigate_menu": true,
   "number_sections": true,
   "sideBar": true,
   "threshold": 4,
   "toc_cell": false,
   "toc_section_display": "block",
   "toc_window_display": false,
   "widenNotebook": false
  }
 },
 "nbformat": 4,
 "nbformat_minor": 1
}
